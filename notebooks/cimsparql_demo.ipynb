{
 "cells": [
  {
   "cell_type": "markdown",
   "metadata": {},
   "source": [
    "# Hvordan importere data fra [GraphDB (https://graphdb.statnett.no)](https://graphdb.statnett.no) til pandas dataframes i python ved hjelp av [cimsparql](https://gitlab.statnett.no/DataScience/general/cimsparql)?"
   ]
  },
  {
   "cell_type": "markdown",
   "metadata": {},
   "source": [
    "### Importer `cimsparql` bibliotek (installer ved hjelp av pip dersom det ikke er tilgjengelig).\n",
    "\n",
    "Installasjon ved bruk av pip krever at pip er korrekt [konfigurert](https://wiki.statnett.no/display/DATASCIENCE/Setting+up+certificates+and+artifactory) "
   ]
  },
  {
   "cell_type": "code",
   "execution_count": null,
   "metadata": {},
   "outputs": [],
   "source": [
    "!pip install cimsparql"
   ]
  },
  {
   "cell_type": "markdown",
   "metadata": {},
   "source": [
    "### Sette opp klient som kan kommunisere med GraphDB\n",
    "\n",
    "Krever at det gjøres et valg av repo (eks.: \"SNMST-MasterCim15-VERSION-116-1-1_1\")"
   ]
  },
  {
   "cell_type": "code",
   "execution_count": null,
   "metadata": {},
   "outputs": [],
   "source": [
    "from cimsparql.graphdb import GraphDBClient\n",
    "from cimsparql.url import service, GraphDbConfig\n",
    "\n",
    "gdbc = GraphDBClient(service('SNMST-MasterCim15-VERSION-116-1-1_1'))"
   ]
  },
  {
   "cell_type": "markdown",
   "metadata": {},
   "source": [
    "### Forhåndsdefinerte spørringer i GraphDBClient\n",
    "\n",
    "_**eq - profil**_ (tilgjengelig i GraphDB)\n",
    "* ac_lines, transformers, loads, wind_generating_units, synchronous_machines, connections, series_compensators, _regions_, (date_version)"
   ]
  },
  {
   "cell_type": "markdown",
   "metadata": {},
   "source": [
    "_**ssh - profil**_\n",
    "* disconnected, ssh_synchronous_machines, ssh_load, ssh_generating_unit\n",
    "\n",
    "_**tp - profil**_\n",
    "* bus_data, terminal, topological_node, voltage, tapstep"
   ]
  },
  {
   "cell_type": "markdown",
   "metadata": {},
   "source": [
    "(Det er mulig å se spørringene som brukes ved hjelp av opsjon _dry_run_)"
   ]
  },
  {
   "cell_type": "code",
   "execution_count": null,
   "metadata": {},
   "outputs": [],
   "source": [
    "gdbc.ac_lines?"
   ]
  },
  {
   "cell_type": "markdown",
   "metadata": {},
   "source": [
    "### Egendefinerte spørringer (copy&paste fra GraphDB)\n",
    "\n",
    "Bruke `GraphDBClient.get_table` til å hente resultat fra egendefinerte spørringer.\n",
    "\n",
    "Eks. på en enkel sparql spørring:\n",
    "```sql\n",
    "select * where {\n",
    "  ?s ?p ?o .\n",
    "  } limit 10\n",
    "```\n",
    "eller\n",
    "```sql\n",
    "select * where {?mrid rdf:type cim:ACLineSegment}\n",
    "```"
   ]
  },
  {
   "cell_type": "code",
   "execution_count": null,
   "metadata": {},
   "outputs": [],
   "source": [
    "select_str = '''\n",
    "select * \n",
    "where\n",
    "   {\n",
    "   ?mrid rdf:type cim:ACLineSegment .\n",
    "   ?mrid cim:ACLineSegment.r ?r . \n",
    "}\n",
    "'''\n",
    "gdbc.get_table(select_str)"
   ]
  },
  {
   "cell_type": "markdown",
   "metadata": {},
   "source": [
    "### Dokumentasjon - Forbedringsforslag/Bugs\n",
    "\n",
    "* [Dokumentasjon av cimsparql](https://datascience.pages.statnett.no/general/cimsparql) i gitlab pages\n",
    "* Forbedringsforslag og bugs kan rapporteres i [gitlab issues](https://gitlab.statnett.no/DataScience/general/cimsparql/issues). \n",
    "* Bidra til utvikling av [cimsparq](https://gitlab.statnett.no/DataScience/general/cimsparql). Lag en fork og send merge request.\n",
    "* Se også (under utvikling)\n",
    " - [bigsql](https://gitlab.statnett.no/DataScience/general/bdl_python_api) for sql spørringer mot `bigsql` (bdl)\n",
    " - [ptcpy](https://gitlab.statnett.no/DataScience/general/ptcpy) for å tolke resultat fra [OIS rest api for RSC](http://osloisdev7.statnett.no:8081/ois-adm/cxf/rest/rscSections)"
   ]
  }
 ],
 "metadata": {
  "kernelspec": {
   "display_name": "Python 3",
   "language": "python",
   "name": "python3"
  },
  "language_info": {
   "codemirror_mode": {
    "name": "ipython",
    "version": 3
   },
   "file_extension": ".py",
   "mimetype": "text/x-python",
   "name": "python",
   "nbconvert_exporter": "python",
   "pygments_lexer": "ipython3",
   "version": "3.7.6"
  }
 },
 "nbformat": 4,
 "nbformat_minor": 4
}
